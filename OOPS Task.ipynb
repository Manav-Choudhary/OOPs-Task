{
 "cells": [
  {
   "cell_type": "code",
   "execution_count": 5,
   "id": "1a3b0bf5",
   "metadata": {},
   "outputs": [
    {
     "name": "stdout",
     "output_type": "stream",
     "text": [
      "Name of vehicle Toyota Fortuner with max speed 120 Kmph and average is 20 per litre\n"
     ]
    }
   ],
   "source": [
    "#Ques 1\n",
    "class Vehicle:\n",
    "    def __init__(self,name_of_vehicle,max_speed,average_of_vehicle):\n",
    "        self.name_of_vehicle=name_of_vehicle\n",
    "        self.max_speed=max_speed\n",
    "        self.average_of_vehicle=average_of_vehicle\n",
    "obj1=Vehicle(\"Toyota Fortuner\",\"120 Kmph\",\"20 per litre\")\n",
    "print(\"Name of vehicle {} with max speed {} and average is {}\".format(obj.name_of_vehicle,obj.max_speed,obj.average_of_vehicle))"
   ]
  },
  {
   "cell_type": "code",
   "execution_count": 9,
   "id": "5af9da61",
   "metadata": {},
   "outputs": [
    {
     "data": {
      "text/plain": [
       "'Toyota Fortuner 6 seater'"
      ]
     },
     "execution_count": 9,
     "metadata": {},
     "output_type": "execute_result"
    }
   ],
   "source": [
    "#Ques 2\n",
    "class Child(Vehicle):\n",
    "    def seating_capacity(self,capacity):\n",
    "        return \"{} {}\".format(self.name_of_vehicle,capacity)\n",
    "obj2=Child(\"Toyota Fortuner\",\"120 Kmph\",\"20 per litre\")\n",
    "obj2.seating_capacity(\"6 seater\")"
   ]
  },
  {
   "cell_type": "code",
   "execution_count": 19,
   "id": "515884d1",
   "metadata": {},
   "outputs": [
    {
     "name": "stdout",
     "output_type": "stream",
     "text": [
      "A's Constructor called\n"
     ]
    }
   ],
   "source": [
    "#Ques 3\n",
    "#Multiple inheriting means a child class is acquiring the properties of 2 base classes at a time\n",
    "class Parent1:\n",
    "    def __init__(self):\n",
    "        print(\"A's Constructor called\")\n",
    "class Parent2:\n",
    "    def __init__(self):\n",
    "        print(\"B's Constructor called\")\n",
    "class Child(Parent1,Parent2):\n",
    "    pass\n",
    "obj=Child()"
   ]
  },
  {
   "cell_type": "code",
   "execution_count": 8,
   "id": "e7ed6bc1",
   "metadata": {},
   "outputs": [
    {
     "name": "stdout",
     "output_type": "stream",
     "text": [
      "97\n",
      "98\n"
     ]
    }
   ],
   "source": [
    "#Ques 4\n",
    "#Private data members cannot be invoked outside a class\n",
    "#Getter function is used to fetch value of a private variable \n",
    "#Setter function is used to set value of a private variable\n",
    "class Sample:\n",
    "    def __init__(self, marks, subject):\n",
    "        self.__marks = marks\n",
    "        self.subject = subject\n",
    "\n",
    "    @property\n",
    "    def marks_access(self):\n",
    "        return self.__marks\n",
    "\n",
    "    @marks_access.setter\n",
    "    def marks_access(self, new_marks):\n",
    "        if self.__marks >= new_marks:\n",
    "            pass\n",
    "        else:\n",
    "            self.__marks = new_marks\n",
    "\n",
    "obj = Sample(97, \"Maths\")\n",
    "print(obj.marks_access)  # Output: 97\n",
    "obj.marks_access = 98\n",
    "print(obj.marks_access)  # Output: 98\n"
   ]
  },
  {
   "cell_type": "code",
   "execution_count": 20,
   "id": "54549530",
   "metadata": {},
   "outputs": [
    {
     "name": "stdout",
     "output_type": "stream",
     "text": [
      "B's Constructor called\n",
      "Feature in C called\n"
     ]
    }
   ],
   "source": [
    "#Ques 5\n",
    "#Class C inheriting from class A as well as class B.\n",
    "#feature method in C overrides its immediate parent method feature in B\n",
    "#Immediate parent is B due to Method resolution operator\n",
    "class A:\n",
    "    def __init__(self):\n",
    "        print(\"A's Constructor called\")\n",
    "    def feature(self):\n",
    "        print(\"Feature in A called\")\n",
    "class B:\n",
    "    def __init__(self):\n",
    "        print(\"B's Constructor called\")\n",
    "    def feature(self):\n",
    "        print(\"Feature in B called\")\n",
    "class C(B,A):\n",
    "    def feature(self):\n",
    "        print(\"Feature in C called\")\n",
    "obj=C()\n",
    "obj.feature()"
   ]
  },
  {
   "cell_type": "code",
   "execution_count": null,
   "id": "90134af3",
   "metadata": {},
   "outputs": [],
   "source": []
  },
  {
   "cell_type": "code",
   "execution_count": null,
   "id": "c5bdada2",
   "metadata": {},
   "outputs": [],
   "source": []
  }
 ],
 "metadata": {
  "kernelspec": {
   "display_name": "Python 3 (ipykernel)",
   "language": "python",
   "name": "python3"
  },
  "language_info": {
   "codemirror_mode": {
    "name": "ipython",
    "version": 3
   },
   "file_extension": ".py",
   "mimetype": "text/x-python",
   "name": "python",
   "nbconvert_exporter": "python",
   "pygments_lexer": "ipython3",
   "version": "3.9.7"
  }
 },
 "nbformat": 4,
 "nbformat_minor": 5
}
